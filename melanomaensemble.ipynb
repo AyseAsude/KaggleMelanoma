{
 "cells": [
  {
   "cell_type": "code",
   "execution_count": null,
   "metadata": {},
   "outputs": [],
   "source": [
    "import numpy as np\n",
    "import pandas as pd\n",
    "import seaborn as sns\n",
    "import matplotlib.pyplot as plt\n",
    "import matplotlib.cm as cm\n",
    "\n",
    "import xgboost as xgb\n",
    "from xgboost import plot_tree\n",
    "import tensorflow as tf\n",
    "from keras.preprocessing.image import ImageDataGenerator\n",
    "from keras.applications.densenet import DenseNet121\n",
    "from keras.applications.resnet import ResNet50\n",
    "from keras.layers import Dense, GlobalAveragePooling2D\n",
    "from keras.models import Model\n",
    "from keras.models import Sequential\n",
    "from tensorflow.keras import backend as K\n",
    "from IPython.display import display\n",
    "from PIL import Image\n",
    "from keras.models import load_model\n",
    "from keras.preprocessing import image\n",
    "\n",
    "from sklearn.metrics import roc_curve\n",
    "from sklearn.metrics import RocCurveDisplay\n",
    "import scikitplot as skplt\n",
    "from sklearn import metrics\n",
    "from sklearn.metrics import confusion_matrix\n",
    "from sklearn.metrics import classification_report\n",
    "import util\n"
   ]
  },
  {
   "cell_type": "code",
   "execution_count": null,
   "metadata": {},
   "outputs": [],
   "source": [
    "train_df = pd.read_csv(\"/media/ayse/ML/ML/train.csv\")\n",
    "test_df = pd.read_csv(\"~/Desktop/smallData/validate.csv\")\n",
    "sub=pd.read_csv(\"/media/ayse/ML/ML/sample_submission.csv\")\n",
    "train_df.head()"
   ]
  },
  {
   "cell_type": "code",
   "execution_count": null,
   "metadata": {},
   "outputs": [],
   "source": [
    "train_df['sex'] = train_df['sex'].fillna('na')\n",
    "train_df['age_approx'] = train_df['age_approx'].fillna(0)\n",
    "train_df['anatom_site_general_challenge'] = train_df['anatom_site_general_challenge'].fillna('na')\n",
    "\n",
    "test_df['sex'] = test_df['sex'].fillna('na')\n",
    "test_df['age_approx'] = test_df['age_approx'].fillna(0)\n",
    "test_df['anatom_site_general_challenge'] = test_df['anatom_site_general_challenge'].fillna('na')\n",
    "train_df['sex'] = train_df['sex'].astype(\"category\").cat.codes +1\n",
    "train_df['anatom_site_general_challenge'] = train_df['anatom_site_general_challenge'].astype(\"category\").cat.codes +1\n"
   ]
  },
  {
   "cell_type": "code",
   "execution_count": null,
   "metadata": {},
   "outputs": [],
   "source": [
    "train_datagen = ImageDataGenerator(\n",
    "        rotation_range=40,\n",
    "        width_shift_range=0.2,\n",
    "        height_shift_range=0.2,\n",
    "        rescale=1./255,\n",
    "        shear_range=0.2,\n",
    "        zoom_range=0.2,\n",
    "        horizontal_flip=True,\n",
    "        fill_mode = 'nearest')"
   ]
  },
  {
   "cell_type": "code",
   "execution_count": null,
   "metadata": {},
   "outputs": [],
   "source": [
    "test_df['sex'] = test_df['sex'].astype(\"category\").cat.codes +1\n",
    "test_df['anatom_site_general_challenge'] = test_df['anatom_site_general_challenge'].astype(\"category\").cat.codes +1\n",
    "test_df.head()\n"
   ]
  },
  {
   "cell_type": "code",
   "execution_count": null,
   "metadata": {},
   "outputs": [],
   "source": [
    "x_train = train_df[['sex', 'age_approx','anatom_site_general_challenge']]\n",
    "y_train = train_df['target']\n",
    "\n",
    "\n",
    "x_test = test_df[['sex', 'age_approx','anatom_site_general_challenge']]\n",
    "# y_train = test['target']\n",
    "\n",
    "\n",
    "train_DMatrix = xgb.DMatrix(x_train, label= y_train)\n",
    "test_DMatrix = xgb.DMatrix(x_test)"
   ]
  },
  {
   "cell_type": "code",
   "execution_count": null,
   "metadata": {},
   "outputs": [],
   "source": [
    "clf = xgb.XGBClassifier(n_estimators=2600, \n",
    "                        max_depth=15, \n",
    "                        objective='multi:softprob',\n",
    "                        seed=0,  \n",
    "                        nthread=-1, \n",
    "                        learning_rate=0.15, \n",
    "                        num_class = 2, \n",
    "                        scale_pos_weight = (32542/584))\n",
    "\n",
    "clf.fit(x_train, y_train)"
   ]
  },
  {
   "cell_type": "code",
   "execution_count": null,
   "metadata": {},
   "outputs": [],
   "source": [
    "plot_tree(clf,num_trees=10)\n",
    "plt.savefig(\"plot.png\")"
   ]
  },
  {
   "cell_type": "code",
   "execution_count": null,
   "metadata": {},
   "outputs": [],
   "source": [
    "train_generator = train_datagen.flow_from_directory(\n",
    "        '/media/ayse/ML/ML/jpeg/undersampletrain/', \n",
    "        target_size=(224, 224), \n",
    "        batch_size=1,\n",
    "        class_mode='binary')  "
   ]
  },
  {
   "cell_type": "code",
   "execution_count": null,
   "metadata": {},
   "outputs": [],
   "source": [
    "test_datagen = ImageDataGenerator(\n",
    "        rescale=1./255,\n",
    ")\n",
    "        "
   ]
  },
  {
   "cell_type": "code",
   "execution_count": null,
   "metadata": {},
   "outputs": [],
   "source": [
    "test_generator = test_datagen.flow_from_directory(\n",
    "        '/home/ayse/Desktop/smallData/jpeg/validate', \n",
    "        target_size=(224, 224), \n",
    "        batch_size=1,\n",
    "        class_mode='binary') "
   ]
  },
  {
   "cell_type": "code",
   "execution_count": null,
   "metadata": {},
   "outputs": [],
   "source": [
    "def binary_focal_loss(gamma=2., alpha=.25):\n",
    "    \"\"\"\n",
    "    Binary form of focal loss.\n",
    "      FL(p_t) = -alpha * (1 - p_t)**gamma * log(p_t)\n",
    "      where p = sigmoid(x), p_t = p or 1 - p depending on if the label is 1 or 0, respectively.\n",
    "    References:\n",
    "        https://arxiv.org/pdf/1708.02002.pdf\n",
    "    Usage:\n",
    "     model.compile(loss=[binary_focal_loss(alpha=.25, gamma=2)], metrics=[\"accuracy\"], optimizer=adam)\n",
    "    \"\"\"\n",
    "\n",
    "    def binary_focal_loss_fixed(y_true, y_pred):\n",
    "        \"\"\"\n",
    "        :param y_true: A tensor of the same shape as `y_pred`\n",
    "        :param y_pred:  A tensor resulting from a sigmoid\n",
    "        :return: Output tensor.\n",
    "        \"\"\"\n",
    "        y_true = tf.cast(y_true, tf.float32)\n",
    "        # Define epsilon so that the back-propagation will not result in NaN for 0 divisor case\n",
    "        epsilon = K.epsilon()\n",
    "        # Add the epsilon to prediction value\n",
    "        # y_pred = y_pred + epsilon\n",
    "        # Clip the prediciton value\n",
    "        y_pred = K.clip(y_pred, epsilon, 1.0 - epsilon)\n",
    "        # Calculate p_t\n",
    "        p_t = tf.where(K.equal(y_true, 1), y_pred, 1 - y_pred)\n",
    "        # Calculate alpha_t\n",
    "        alpha_factor = K.ones_like(y_true) * alpha\n",
    "        alpha_t = tf.where(K.equal(y_true, 1), alpha_factor, 1 - alpha_factor)\n",
    "        # Calculate cross entropy\n",
    "        cross_entropy = -K.log(p_t)\n",
    "        weight = alpha_t * K.pow((1 - p_t), gamma)\n",
    "        # Calculate focal loss\n",
    "        loss = weight * cross_entropy\n",
    "        # Sum the losses in mini_batch\n",
    "        loss = K.mean(K.sum(loss, axis=1))\n",
    "        return loss\n",
    "\n",
    "    return binary_focal_loss_fixed\n"
   ]
  },
  {
   "cell_type": "code",
   "execution_count": null,
   "metadata": {},
   "outputs": [],
   "source": [
    "def compute_class_freqs(labels):\n",
    "\n",
    "    N = len(train_df)\n",
    "    \n",
    "    positive_frequencies = np.sum(labels, axis=0) / N\n",
    "    negative_frequencies = 1 - positive_frequencies\n",
    "\n",
    "    return positive_frequencies, negative_frequencies"
   ]
  },
  {
   "cell_type": "code",
   "execution_count": null,
   "metadata": {},
   "outputs": [],
   "source": [
    "base_model = DenseNet121(input_shape=(224,224,3),weights='imagenet', include_top=False)\n",
    "\n",
    "x = base_model.output\n",
    "\n",
    "\n",
    "# add a global spatial average pooling layer\n",
    "x = GlobalAveragePooling2D()(x)\n",
    "\n",
    "# and a logistic layer\n",
    "predictions = Dense(1, activation=\"sigmoid\",dtype='float32')(x)\n",
    "\n",
    "model = Model(inputs=base_model.input, outputs=predictions)\n",
    "\n",
    "for layers in base_model.layers:\n",
    "    layers.trainable = False\n",
    "    \n",
    "model.compile(optimizer='adam', loss='binary_crossentropy', metrics=['binary_accuracy'])\n",
    "\n",
    "model.summary()"
   ]
  },
  {
   "cell_type": "code",
   "execution_count": null,
   "metadata": {},
   "outputs": [],
   "source": [
    "test_target = test_df['target']\n",
    "test_df.drop('target', axis=1, inplace=True)"
   ]
  },
  {
   "cell_type": "code",
   "execution_count": null,
   "metadata": {},
   "outputs": [],
   "source": [
    "freq_pos, freq_neg = compute_class_freqs(train_generator.labels)\n"
   ]
  },
  {
   "cell_type": "code",
   "execution_count": null,
   "metadata": {},
   "outputs": [],
   "source": [
    "pos_weights = freq_neg\n",
    "neg_weights = freq_pos\n",
    "pos_contribution = freq_pos * pos_weights \n",
    "neg_contribution = freq_neg * neg_weights"
   ]
  },
  {
   "cell_type": "code",
   "execution_count": null,
   "metadata": {},
   "outputs": [],
   "source": [
    "def get_weighted_loss(pos_weights, neg_weights, epsilon=1e-7):\n",
    "  \n",
    "    def weighted_loss(y_true, y_pred):\n",
    "       \n",
    "        loss = 0.0\n",
    "        loss_pos = -1 * K.mean(pos_weights * y_true[0] * K.log(y_pred[0] + epsilon))\n",
    "        loss_neg = -1 * K.mean(neg_weights * (1 - y_true[0]) * K.log(1 - y_pred[0] + epsilon))\n",
    "        loss += loss_pos + loss_neg\n",
    "        return loss\n",
    "    \n",
    "    return weighted_loss"
   ]
  },
  {
   "cell_type": "code",
   "execution_count": null,
   "metadata": {},
   "outputs": [],
   "source": [
    "history = model.fit_generator(train_generator, \n",
    "                              steps_per_epoch=1484, \n",
    "                              shuffle=True,\n",
    "                              epochs = 15)\n",
    "\n",
    "plt.plot(history.history['loss'])\n",
    "plt.ylabel(\"loss\")\n",
    "plt.xlabel(\"epoch\")\n",
    "plt.title(\"Training Loss Curve\")\n",
    "plt.show()\n",
    "plt.plot(history.history['binary_accuracy'])\n",
    "plt.ylabel(\"binary accuracy\")\n",
    "plt.xlabel(\"epoch\")\n",
    "plt.title(\"Training Accuracy Curve\")\n",
    "plt.show()"
   ]
  },
  {
   "cell_type": "code",
   "execution_count": null,
   "metadata": {},
   "outputs": [],
   "source": [
    "predicted_vals = model.predict_generator(test_generator, len(test_generator))\n",
    "print(predicted_vals)"
   ]
  },
  {
   "cell_type": "code",
   "execution_count": null,
   "metadata": {},
   "outputs": [],
   "source": [
    "def load_image(img_path, show=False):\n",
    "\n",
    "    img = image.load_img(img_path, target_size=(224, 224))\n",
    "    img_tensor = image.img_to_array(img)                   \n",
    "    img_tensor = np.expand_dims(img_tensor, axis=0)        \n",
    "    img_tensor /= 255.                                      \n",
    "\n",
    "    if show:\n",
    "        plt.imshow(img_tensor[0])                           \n",
    "        plt.axis('off')\n",
    "        plt.show()\n",
    "\n",
    "    return img_tensor"
   ]
  },
  {
   "cell_type": "code",
   "execution_count": null,
   "metadata": {},
   "outputs": [],
   "source": [
    "img_path = '/home/ayse/Desktop/smallData/jpeg/validate/0/ISIC_0148677.jpg'    \n",
    "\n",
    "\n",
    "new_image = load_image(img_path)\n",
    "\n",
    "pred = model.predict(new_image)\n",
    "pred"
   ]
  },
  {
   "cell_type": "code",
   "execution_count": null,
   "metadata": {},
   "outputs": [],
   "source": [
    "fpr, tpr, _ = metrics.roc_curve(test_target,  class_preds)\n",
    "auc = metrics.roc_auc_score(test_target,  class_preds)\n",
    "plt.plot(fpr,tpr,label=\"data 1, auc=\"+str(auc))\n",
    "plt.legend(loc=4)\n",
    "plt.show()"
   ]
  },
  {
   "cell_type": "code",
   "execution_count": null,
   "metadata": {},
   "outputs": [],
   "source": [
    "big_test_df = pd.read_csv(\"/media/ayse/ML/ML/test.csv\")\n",
    "big_test_df.head()"
   ]
  },
  {
   "cell_type": "code",
   "execution_count": null,
   "metadata": {},
   "outputs": [],
   "source": [
    "big_test_generator = test_datagen.flow_from_directory(\n",
    "        '/media/ayse/ML/ML/jpeg/testparent',-\n",
    "        target_size=(224, 224), \n",
    "        batch_size=1,\n",
    "        class_mode='binary')  "
   ]
  },
  {
   "cell_type": "code",
   "execution_count": null,
   "metadata": {},
   "outputs": [],
   "source": [
    "big_predicted_vals = model.predict_generator(big_test_generator, len(big_test_generator))\n",
    "print(big_predicted_vals)"
   ]
  },
  {
   "cell_type": "code",
   "execution_count": null,
   "metadata": {},
   "outputs": [],
   "source": [
    "submission =  pd.concat([\n",
    "    big_test_image_names,\n",
    "    pd.DataFrame(big_predicted_vals, dtype=np.float)\n",
    "], axis=1, ignore_index=True)"
   ]
  },
  {
   "cell_type": "code",
   "execution_count": null,
   "metadata": {},
   "outputs": [],
   "source": [
    "submission.to_csv (r'/home/ayse/Desktop/validateCNN_submission.csv', index = False, header=True)"
   ]
  },
  {
   "cell_type": "code",
   "execution_count": null,
   "metadata": {},
   "outputs": [],
   "source": [
    "validate_df = pd.read_csv(\"/home/ayse/Desktop/shuffledvalidate.csv\")\n",
    "validate_target= validate_df['target']\n",
    "validate_df.head()"
   ]
  },
  {
   "cell_type": "code",
   "execution_count": null,
   "metadata": {},
   "outputs": [],
   "source": [
    "validate_generator = test_datagen.flow_from_directory(\n",
    "        '/home/ayse/Desktop/smallData/jpeg/validate', \n",
    "        target_size=(224, 224), \n",
    "        batch_size=1,\n",
    "        class_mode='binary') \n"
   ]
  },
  {
   "cell_type": "code",
   "execution_count": null,
   "metadata": {},
   "outputs": [],
   "source": [
    "predicted_validate_vals = model.predict_generator(validate_generator, len(validate_generator))\n",
    "print(predicted_validate_vals)"
   ]
  },
  {
   "cell_type": "code",
   "execution_count": null,
   "metadata": {},
   "outputs": [],
   "source": [
    "predvalid_df = pd.DataFrame(predicted_validate_vals, dtype=np.float)\n",
    "predvalid_df.to_csv('predvalid.csv',header=False, index=False)"
   ]
  },
  {
   "cell_type": "code",
   "execution_count": null,
   "metadata": {},
   "outputs": [],
   "source": [
    "imgnamesvalid_df = pd.read_csv(\"/home/ayse/Desktop/validatesubmission.csv\")\n",
    "imgnamesvalid_df.head()\n",
    "validate_predictions = pd.concat([imgnamesvalid_df,predvalid_df],axis=1)\n",
    "validate_predictions.to_csv(\"/home/ayse/Desktop/validatesubmissionfinal.csv\", index=False)"
   ]
  },
  {
   "cell_type": "code",
   "execution_count": null,
   "metadata": {},
   "outputs": [],
   "source": [
    "validate_df['sex'] = validate_df['sex'].fillna('na')\n",
    "validate_df['age_approx'] = validate_df['age_approx'].fillna(0)\n",
    "validate_df['anatom_site_general_challenge'] = validate_df['anatom_site_general_challenge'].fillna('na')\n",
    "validate_df['sex'] = validate_df['sex'].astype(\"category\").cat.codes +1\n",
    "validate_df['anatom_site_general_challenge'] = validate_df['anatom_site_general_challenge'].astype(\"category\").cat.codes +1\n",
    "#validate_df.head()\n",
    "x_validate = validate_df[['sex', 'age_approx','anatom_site_general_challenge']]\n",
    "#x_validate.head(100)\n",
    "validate_DMatrix = xgb.DMatrix(x_validate)\n"
   ]
  },
  {
   "cell_type": "code",
   "execution_count": null,
   "metadata": {},
   "outputs": [],
   "source": [
    "clf.predict_proba(x_validate)[:,1]\n",
    "sub = pd.read_csv(\"/home/ayse/Desktop/validatesubmission.csv\")\n",
    "sub.target = clf.predict_proba(x_validate)[:,1]\n",
    "sub_tabular = sub.copy()\n",
    "\n",
    "sub_tabular.to_csv('xgb_validate.csv', index = False)\n"
   ]
  },
  {
   "cell_type": "code",
   "execution_count": null,
   "metadata": {},
   "outputs": [],
   "source": [
    "matrix = confusion_matrix(test_target, class_preds, labels=[1,0])\n",
    "TP, FN, FP, TN = confusion_matrix( test_target, class_preds, labels=[1,0]).reshape(-1)\n",
    "print(\"tp: \", TP, \"fn: \", FN, \"fp: \", FP,  \"tn: \", TN)"
   ]
  },
  {
   "cell_type": "code",
   "execution_count": null,
   "metadata": {},
   "outputs": [],
   "source": [
    "matrix = classification_report(test_target, class_preds, labels=[1,0])\n",
    "print(matrix)"
   ]
  },
  {
   "cell_type": "code",
   "execution_count": null,
   "metadata": {},
   "outputs": [],
   "source": [
    "CNN = pd.read_csv(\"/home/ayse/Desktop/validatesubmissionfinal.csv\")\n",
    "seventh = pd.read_csv(\"/home/ayse/Desktop/submission.csv\")\n",
    "xgboost = pd.read_csv(\"/home/ayse/Desktop/xgb_validate.csv\")\n",
    "seventh.head()"
   ]
  },
  {
   "cell_type": "code",
   "execution_count": null,
   "metadata": {},
   "outputs": [],
   "source": [
    "subsubmission_df = pd.merge(seventh, CNN, how='right',on=['image_name'])\n",
    "subsubmission_df.drop('target_x', axis=1, inplace=True)\n",
    "subsubmission_df.head()"
   ]
  },
  {
   "cell_type": "code",
   "execution_count": null,
   "metadata": {},
   "outputs": [],
   "source": [
    "subsubmission_df = subsubmission_df.rename({'target_y':'target'},axis=1)\n",
    "subsubmission_df.head()"
   ]
  },
  {
   "cell_type": "code",
   "execution_count": null,
   "metadata": {},
   "outputs": [],
   "source": [
    "ensemble = pd.DataFrame({'image_name':subsubmission_df['image_name'], 'target':(0.5*xgboost['target'] + 0.3*seventh['target'] + 0.2*CNN['target'])})\n",
    "ensemble.to_csv('ensemble1.csv',header=True, index=False)\n",
    "ensemble.head(10)\n",
    "\n"
   ]
  },
  {
   "cell_type": "code",
   "execution_count": null,
   "metadata": {},
   "outputs": [],
   "source": [
    "ensemble_df=pd.read_csv(\"/home/ayse/Desktop/ensemble1.csv\")\n",
    "ensembled_class = []\n",
    "for i in (ensemble_df['target']):\n",
    "    if(i < 0.2):\n",
    "        ensembled_class.append(0)\n",
    "    else:\n",
    "        ensembled_class.append(1)\n"
   ]
  },
  {
   "cell_type": "code",
   "execution_count": null,
   "metadata": {},
   "outputs": [],
   "source": [
    "matrix = confusion_matrix(validate_target, ensembled_class, labels=[1,0])\n",
    "TP, FN, FP, TN = confusion_matrix( validate_target, ensembled_class, labels=[1,0]).reshape(-1)\n",
    "print(\"tp: \", TP, \"fn: \", FN, \"fp: \", FP,  \"tn: \", TN)"
   ]
  },
  {
   "cell_type": "code",
   "execution_count": null,
   "metadata": {},
   "outputs": [],
   "source": [
    "matrix = classification_report(validate_target, ensembled_class, labels=[1,0])\n",
    "print(matrix)"
   ]
  }
 ],
 "metadata": {
  "kernelspec": {
   "display_name": "Python 3",
   "language": "python",
   "name": "python3"
  },
  "language_info": {
   "codemirror_mode": {
    "name": "ipython",
    "version": 3
   },
   "file_extension": ".py",
   "mimetype": "text/x-python",
   "name": "python",
   "nbconvert_exporter": "python",
   "pygments_lexer": "ipython3",
   "version": "3.6.10"
  }
 },
 "nbformat": 4,
 "nbformat_minor": 4
}
